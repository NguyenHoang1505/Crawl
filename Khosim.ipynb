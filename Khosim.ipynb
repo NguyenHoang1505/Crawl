{
 "cells": [
  {
   "cell_type": "code",
   "execution_count": 99,
   "metadata": {},
   "outputs": [],
   "source": [
    "from selenium import webdriver\n",
    "from selenium.webdriver.common.keys import Keys\n",
    "import pandas as pd\n",
    "import os\n",
    "import time\n",
    "from selenium.webdriver.chrome.options import Options"
   ]
  },
  {
   "cell_type": "code",
   "execution_count": 100,
   "metadata": {},
   "outputs": [],
   "source": [
    "Data_crawl = {'number':[], 'price': []}"
   ]
  },
  {
   "cell_type": "code",
   "execution_count": 101,
   "metadata": {},
   "outputs": [],
   "source": [
    "# xpath_stt = \"/html/body/main/div[1]/div[2]/div[5]/div/table/tbody/tr[100]/th\"\n",
    "# xpath_number = \"/html/body/main/div[1]/div[2]/div[5]/div/table/tbody/tr[100]/td[1]/a\"\n",
    "# xpath_price = \"/html/body/main/div[1]/div[2]/div[5]/div/table/tbody/tr[100]/td[2]/b\"\n",
    "# xpath_score = \"/html/body/main/div[1]/div[2]/div[5]/div/table/tbody/tr[100]/td[3]\"\n",
    "# xpath_network_type = \"/html/body/main/div[1]/div[2]/div[5]/div/table/tbody/tr[100]/td[4]/span\""
   ]
  },
  {
   "cell_type": "code",
   "execution_count": 102,
   "metadata": {},
   "outputs": [
    {
     "name": "stderr",
     "output_type": "stream",
     "text": [
      "/home/hoang/.local/lib/python3.6/site-packages/ipykernel_launcher.py:4: DeprecationWarning: use options instead of chrome_options\n",
      "  after removing the cwd from sys.path.\n"
     ]
    }
   ],
   "source": [
    "chrome_options = Options()\n",
    "#chrome_options.add_argument(\"--headless\")\n",
    "chrome_options.add_argument(\"--window-size=1920x1080\")\n",
    "browser = webdriver.Chrome(chrome_options=chrome_options, executable_path='/home/hoang/Selenium/chromedriver')"
   ]
  },
  {
   "cell_type": "code",
   "execution_count": 103,
   "metadata": {},
   "outputs": [],
   "source": [
    "page_number = 50"
   ]
  },
  {
   "cell_type": "code",
   "execution_count": 104,
   "metadata": {},
   "outputs": [],
   "source": [
    "for page in range(1, page_number+1):\n",
    "    if page == 1:\n",
    "        page_address = 'https://khosim.com/sim-viettel'\n",
    "    else:\n",
    "        page_address = 'https://khosim.com/sim-viettel?page={}'.format(page)\n",
    "    browser.get(page_address)\n",
    "    time.sleep(1)\n",
    "    for ele in range(1, 101):\n",
    "#         try:\n",
    "#             Data_crawl['stt'].append(browser.find_element_by_xpath('/html/body/main/div[1]/div[2]/div[5]/div/table/tbody/tr[{}]/th'.format(ele)).text)\n",
    "#         except:\n",
    "#             Data_crawl['stt'].append('')\n",
    "        try:\n",
    "            Data_crawl['number'].append(browser.find_element_by_xpath('/html/body/main/div[1]/div[2]/div[5]/div/table/tbody/tr[{}]/td[1]/a'.format(ele)).text)\n",
    "        except:\n",
    "            Data_crawl['number'].append('')\n",
    "        try:\n",
    "            Data_crawl['price'].append(browser.find_element_by_xpath('/html/body/main/div[1]/div[2]/div[5]/div/table/tbody/tr[{}]/td[2]/b'.format(ele)).text)\n",
    "        except:\n",
    "            Data_crawl['price'].append('')\n",
    "#         try:\n",
    "#             Data_crawl['score'].append(browser.find_element_by_xpath('/html/body/main/div[1]/div[2]/div[5]/div/table/tbody/tr[{}]/td[3]'.format(ele)).text)\n",
    "#         except:\n",
    "#             Data_crawl['score'].append('')\n",
    "#         try:\n",
    "#             Data_crawl['network_type'].append(browser.find_element_by_xpath('/html/body/main/div[1]/div[2]/div[5]/div/table/tbody/tr[{}]/td[4]/span'.format(ele)).text)\n",
    "#         except:\n",
    "#             Data_crawl['network_type'].append('')"
   ]
  },
  {
   "cell_type": "code",
   "execution_count": 105,
   "metadata": {},
   "outputs": [],
   "source": [
    "Data_crawl=pd.DataFrame(Data_crawl)"
   ]
  },
  {
   "cell_type": "code",
   "execution_count": 122,
   "metadata": {},
   "outputs": [
    {
     "data": {
      "text/html": [
       "<div>\n",
       "<style scoped>\n",
       "    .dataframe tbody tr th:only-of-type {\n",
       "        vertical-align: middle;\n",
       "    }\n",
       "\n",
       "    .dataframe tbody tr th {\n",
       "        vertical-align: top;\n",
       "    }\n",
       "\n",
       "    .dataframe thead th {\n",
       "        text-align: right;\n",
       "    }\n",
       "</style>\n",
       "<table border=\"1\" class=\"dataframe\">\n",
       "  <thead>\n",
       "    <tr style=\"text-align: right;\">\n",
       "      <th></th>\n",
       "      <th>number</th>\n",
       "      <th>price</th>\n",
       "    </tr>\n",
       "  </thead>\n",
       "  <tbody>\n",
       "    <tr>\n",
       "      <th>0</th>\n",
       "      <td>0868888.714</td>\n",
       "      <td>1,900,000</td>\n",
       "    </tr>\n",
       "    <tr>\n",
       "      <th>1</th>\n",
       "      <td>0868888.740</td>\n",
       "      <td>1,900,000</td>\n",
       "    </tr>\n",
       "    <tr>\n",
       "      <th>2</th>\n",
       "      <td>0961337070</td>\n",
       "      <td>1,905,000</td>\n",
       "    </tr>\n",
       "    <tr>\n",
       "      <th>3</th>\n",
       "      <td>0981441515</td>\n",
       "      <td>2,500,000</td>\n",
       "    </tr>\n",
       "    <tr>\n",
       "      <th>4</th>\n",
       "      <td>0971223131</td>\n",
       "      <td>2,105,000</td>\n",
       "    </tr>\n",
       "    <tr>\n",
       "      <th>...</th>\n",
       "      <td>...</td>\n",
       "      <td>...</td>\n",
       "    </tr>\n",
       "    <tr>\n",
       "      <th>4995</th>\n",
       "      <td>0868.324.363</td>\n",
       "      <td>1,200,000</td>\n",
       "    </tr>\n",
       "    <tr>\n",
       "      <th>4996</th>\n",
       "      <td>0869.631.000</td>\n",
       "      <td>1,200,000</td>\n",
       "    </tr>\n",
       "    <tr>\n",
       "      <th>4997</th>\n",
       "      <td>0975.699.539</td>\n",
       "      <td>1,200,000</td>\n",
       "    </tr>\n",
       "    <tr>\n",
       "      <th>4998</th>\n",
       "      <td>0335.776.776</td>\n",
       "      <td>12,300,000</td>\n",
       "    </tr>\n",
       "    <tr>\n",
       "      <th>4999</th>\n",
       "      <td>0359.87.88.89</td>\n",
       "      <td>14,760,000</td>\n",
       "    </tr>\n",
       "  </tbody>\n",
       "</table>\n",
       "<p>5000 rows × 2 columns</p>\n",
       "</div>"
      ],
      "text/plain": [
       "             number       price\n",
       "0       0868888.714   1,900,000\n",
       "1       0868888.740   1,900,000\n",
       "2        0961337070   1,905,000\n",
       "3        0981441515   2,500,000\n",
       "4        0971223131   2,105,000\n",
       "...             ...         ...\n",
       "4995   0868.324.363   1,200,000\n",
       "4996   0869.631.000   1,200,000\n",
       "4997   0975.699.539   1,200,000\n",
       "4998   0335.776.776  12,300,000\n",
       "4999  0359.87.88.89  14,760,000\n",
       "\n",
       "[5000 rows x 2 columns]"
      ]
     },
     "execution_count": 122,
     "metadata": {},
     "output_type": "execute_result"
    }
   ],
   "source": [
    "Data_crawl"
   ]
  },
  {
   "cell_type": "code",
   "execution_count": 115,
   "metadata": {},
   "outputs": [
    {
     "data": {
      "text/plain": [
       "'0868888714'"
      ]
     },
     "execution_count": 115,
     "metadata": {},
     "output_type": "execute_result"
    }
   ],
   "source": [
    "a[0].replace('.','')"
   ]
  },
  {
   "cell_type": "code",
   "execution_count": 116,
   "metadata": {},
   "outputs": [
    {
     "data": {
      "text/plain": [
       "'0123'"
      ]
     },
     "execution_count": 116,
     "metadata": {},
     "output_type": "execute_result"
    }
   ],
   "source": [
    "'0123'.replace('.','')"
   ]
  },
  {
   "cell_type": "code",
   "execution_count": null,
   "metadata": {},
   "outputs": [],
   "source": []
  }
 ],
 "metadata": {
  "kernelspec": {
   "display_name": "Python 3",
   "language": "python",
   "name": "python3"
  },
  "language_info": {
   "codemirror_mode": {
    "name": "ipython",
    "version": 3
   },
   "file_extension": ".py",
   "mimetype": "text/x-python",
   "name": "python",
   "nbconvert_exporter": "python",
   "pygments_lexer": "ipython3",
   "version": "3.6.9"
  }
 },
 "nbformat": 4,
 "nbformat_minor": 4
}
